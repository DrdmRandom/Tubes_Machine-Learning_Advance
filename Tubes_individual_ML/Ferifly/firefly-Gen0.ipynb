{
 "cells": [
  {
   "cell_type": "markdown",
   "source": [
    "Firefly Algorithm\n",
    "\n",
    "Name : Dawwi Raissa Damarjati Muljana\n",
    "SID : 1301213517"
   ],
   "metadata": {
    "collapsed": false
   },
   "id": "5e83762dfa07724a"
  },
  {
   "cell_type": "markdown",
   "source": [
    "# Importing Library"
   ],
   "metadata": {
    "collapsed": false
   },
   "id": "f28056d44b47a413"
  },
  {
   "cell_type": "code",
   "outputs": [],
   "source": [
    "#importing\n",
    "import numpy as np\n",
    "import matplotlib.pyplot as plt\n",
    "from matplotlib.animation import FuncAnimation, PillowWriter"
   ],
   "metadata": {
    "collapsed": false,
    "ExecuteTime": {
     "end_time": "2024-05-30T13:37:58.026032Z",
     "start_time": "2024-05-30T13:37:58.022475Z"
    }
   },
   "id": "9714a6b7c5d9f4c9",
   "execution_count": 117
  },
  {
   "cell_type": "markdown",
   "source": [
    "# Fungsi F14"
   ],
   "metadata": {
    "collapsed": false
   },
   "id": "de9f8f81347f99a8"
  },
  {
   "cell_type": "code",
   "outputs": [],
   "source": [
    "def F14(x):\n",
    "    aS = np.array([\n",
    "        [-32, -16, 0, 16, 32, -32, -16, 0, 16, 32, -32, -16, 0, 16, 32, -32, -16, 0, 16, 32, -32, -16, 0, 16, 32],\n",
    "        [-32, -32, -32, -32, -32, -16, -16, -16, -16, -16, 0, 0, 0, 0, 0, 16, 16, 16, 16, 16, 32, 32, 32, 32, 32]\n",
    "    ])\n",
    "    x = x.reshape(2, 1)\n",
    "    bS = np.sum((x - aS) ** 6, axis=0)\n",
    "    return (1 / 500 + np.sum(1 / (np.arange(1, 26) + bS))) ** -1"
   ],
   "metadata": {
    "collapsed": false,
    "ExecuteTime": {
     "end_time": "2024-05-30T13:37:58.047572Z",
     "start_time": "2024-05-30T13:37:58.043640Z"
    }
   },
   "id": "1489121d1a4e3700",
   "execution_count": 118
  },
  {
   "cell_type": "markdown",
   "source": [
    "# Parameter "
   ],
   "metadata": {
    "collapsed": false
   },
   "id": "b406dad7af92d434"
  },
  {
   "cell_type": "code",
   "outputs": [],
   "source": [
    "# Parameter Firefly Algorithm\n",
    "n = 100  # Jumlah kunang-kunang dalam 1 populasi\n",
    "max_iter = 200 # Jumlah iterasi\n",
    "alpha = 0.1  # Mengontrol parameter randomness dalam pegerakan kunang kunang\n",
    "gamma = 1 # Seberapa terang cahaya/penyerapan cahaya antar kunang kunang\n",
    "beta_init = 1  # Mengontrol seberapa tinggi daya tarik antar kunang kunang\n",
    "lb, ub = -50, 100  # Batas bawah dan atas untuk posisi firefly"
   ],
   "metadata": {
    "collapsed": false,
    "ExecuteTime": {
     "end_time": "2024-05-30T13:37:58.068754Z",
     "start_time": "2024-05-30T13:37:58.065720Z"
    }
   },
   "id": "a5b819433f99476c",
   "execution_count": 119
  },
  {
   "cell_type": "markdown",
   "source": [
    "# Inisialisasi Populasi"
   ],
   "metadata": {
    "collapsed": false
   },
   "id": "e150ff78934c2556"
  },
  {
   "cell_type": "code",
   "outputs": [],
   "source": [
    "np.random.seed(46) # Memastikan bilangan acak dapat di replikasi\n",
    "positions = np.random.uniform(lb, ub, (n, 2)) # Menghasilkan array n*2 dengan range lb, ub"
   ],
   "metadata": {
    "collapsed": false,
    "ExecuteTime": {
     "end_time": "2024-05-30T13:37:58.073301Z",
     "start_time": "2024-05-30T13:37:58.069276Z"
    }
   },
   "id": "ae009bfe86d03db7",
   "execution_count": 120
  },
  {
   "cell_type": "markdown",
   "source": [
    "# Algoritma Firefly"
   ],
   "metadata": {
    "collapsed": false
   },
   "id": "71575bfaa51370a0"
  },
  {
   "cell_type": "code",
   "outputs": [],
   "source": [
    "# Simpan data untuk animasi\n",
    "history = []\n",
    "# Track the best solution found\n",
    "best_position = None\n",
    "best_fitness = np.inf "
   ],
   "metadata": {
    "collapsed": false,
    "ExecuteTime": {
     "end_time": "2024-05-30T13:37:58.077294Z",
     "start_time": "2024-05-30T13:37:58.074306Z"
    }
   },
   "id": "41a0461154177c17",
   "execution_count": 121
  },
  {
   "cell_type": "code",
   "outputs": [],
   "source": [
    "def distance(x, y):\n",
    "    return np.linalg.norm(x - y)\n",
    "\n",
    "def firefly_algorithm():\n",
    "    global positions, history, best_position, best_fitness\n",
    "    for t in range(max_iter):\n",
    "        history.append(positions.copy())\n",
    "        for i in range(n):\n",
    "            for j in range(n):\n",
    "                if F14(positions[j]) < F14(positions[i]):\n",
    "                    r = distance(positions[i], positions[j])\n",
    "                    beta = beta_init * np.exp(-gamma * r)\n",
    "                    positions[i] = positions[i] + beta * (positions[j] - positions[i]) + alpha * (np.random.rand(2) - 0.5)\n",
    "                    positions[i] = np.clip(positions[i], lb, ub)\n",
    "                    current_fitness = F14(positions[i])\n",
    "                    \n",
    "                    if current_fitness < best_fitness:\n",
    "                        best_fitness = current_fitness\n",
    "                        best_position = positions[i].copy()\n",
    "                        print(\"NEW BEST\", best_position)\n",
    "    return positions"
   ],
   "metadata": {
    "collapsed": false,
    "ExecuteTime": {
     "end_time": "2024-05-30T13:37:58.086309Z",
     "start_time": "2024-05-30T13:37:58.080300Z"
    }
   },
   "id": "417f751cd25414b0",
   "execution_count": 122
  },
  {
   "cell_type": "code",
   "outputs": [
    {
     "name": "stdout",
     "output_type": "stream",
     "text": [
      "NEW BEST [67.58550066 45.23299772]\n",
      "NEW BEST [67.53881984 45.27456602]\n",
      "NEW BEST [67.51442271 45.32760037]\n",
      "NEW BEST [67.51955521 45.29025845]\n",
      "NEW BEST [67.4933819  45.32876806]\n",
      "NEW BEST [67.44627667 45.36124604]\n",
      "NEW BEST [67.45140942 45.31395038]\n",
      "NEW BEST [67.41079542 45.35279537]\n",
      "NEW BEST [-12.66876756  63.72246157]\n",
      "NEW BEST [-12.67370369  63.6916554 ]\n",
      "NEW BEST [-12.65559773  63.66896221]\n",
      "NEW BEST [-12.69465301  63.64188483]\n",
      "NEW BEST [-12.66247423  63.62937594]\n",
      "NEW BEST [-12.83609319  63.6106302 ]\n",
      "NEW BEST [-43.61431339  16.0861382 ]\n",
      "NEW BEST [-43.59382204  15.95544015]\n",
      "NEW BEST [ 26.22488417 -37.21696074]\n",
      "NEW BEST [ 26.20409951 -37.15980034]\n",
      "NEW BEST [ 26.25308036 -37.18140514]\n",
      "NEW BEST [ 26.21625086 -37.07660955]\n",
      "NEW BEST [ 26.23932352 -37.07000888]\n",
      "NEW BEST [ 26.26898639 -37.08604725]\n",
      "NEW BEST [ 26.31669778 -37.07922655]\n",
      "NEW BEST [ 26.33786395 -37.03611588]\n",
      "NEW BEST [ 26.38563192 -37.07130338]\n",
      "NEW BEST [ 26.40471258 -37.03813609]\n",
      "NEW BEST [-36.53317452 -27.6688897 ]\n",
      "NEW BEST [-36.51507173 -27.70211012]\n",
      "NEW BEST [-36.47875063 -27.69130188]\n",
      "NEW BEST [-36.46223665 -27.71116633]\n",
      "NEW BEST [-36.48707771 -27.77685798]\n",
      "NEW BEST [-34.02090659  28.16103775]\n",
      "NEW BEST [-34.00682429  28.16650691]\n",
      "NEW BEST [-29.16449431 -33.89626638]\n",
      "NEW BEST [-29.1718378  -33.83261384]\n",
      "NEW BEST [-29.18587104 -33.80267946]\n",
      "NEW BEST [-29.23546123 -33.77356189]\n",
      "NEW BEST [ 14.40362298 -17.11027133]\n",
      "NEW BEST [ 14.43716066 -17.16856147]\n",
      "NEW BEST [ 0.91941839 33.14311559]\n",
      "NEW BEST [-1.03243491 30.96191541]\n",
      "NEW BEST [-0.97634841 31.01969526]\n",
      "NEW BEST [-0.98924534 31.0619635 ]\n",
      "NEW BEST [ 0.85404208 32.96566697]\n",
      "NEW BEST [ 0.86355766 32.9213899 ]\n",
      "NEW BEST [-0.75074019 31.15094504]\n",
      "NEW BEST [ 0.76210622 32.81940006]\n",
      "NEW BEST [-0.61234842 31.30042312]\n",
      "NEW BEST [-0.5780388  31.29155045]\n",
      "NEW BEST [-0.55540713 31.30315588]\n",
      "NEW BEST [ 0.60970779 32.61430077]\n",
      "NEW BEST [-33.56590893 -30.65733799]\n",
      "NEW BEST [-33.51939073 -30.59725629]\n",
      "NEW BEST [-33.49706817 -30.60903191]\n",
      "NEW BEST [-30.42570765 -32.32750828]\n",
      "NEW BEST [-33.4695583  -30.72304464]\n",
      "NEW BEST [-33.36110667 -30.70325595]\n",
      "NEW BEST [-30.55601619 -32.2701608 ]\n",
      "NEW BEST [-33.24251308 -30.79766502]\n",
      "NEW BEST [-33.24203167 -30.80423471]\n",
      "NEW BEST [-30.63387679 -32.19035924]\n",
      "NEW BEST [-33.24532234 -30.81811924]\n",
      "NEW BEST [-33.14700001 -30.85724111]\n",
      "NEW BEST [-30.77649102 -32.06906012]\n",
      "NEW BEST [-33.01955441 -30.92792153]\n",
      "NEW BEST [-32.97884005 -30.90527613]\n",
      "NEW BEST [-30.97736854 -31.92597178]\n",
      "NEW BEST [-32.61624753 -31.10224209]\n",
      "NEW BEST [-32.6153038  -31.11834273]\n",
      "NEW BEST [-31.23475155 -31.76958926]\n",
      "NEW BEST [-32.32949455 -31.24098149]\n",
      "NEW BEST [-32.3148866  -31.30838852]\n",
      "NEW BEST [-31.61730742 -31.61434348]\n",
      "NEW BEST [-31.80503602 -31.58742818]\n",
      "NEW BEST [-31.79541683 -31.59339484]\n",
      "NEW BEST [-31.80358838 -31.6286123 ]\n",
      "NEW BEST [-31.79991501 -31.65140296]\n",
      "NEW BEST [-31.8246738  -31.67364545]\n",
      "NEW BEST [-31.82811365 -31.67915205]\n",
      "NEW BEST [-31.87561507 -31.72707513]\n",
      "NEW BEST [-31.9001381  -31.73081892]\n",
      "NEW BEST [-31.90289423 -31.78030917]\n",
      "NEW BEST [-31.9200637  -31.81071934]\n",
      "NEW BEST [-31.95415729 -31.83984604]\n",
      "NEW BEST [-31.92251824 -31.88694144]\n",
      "NEW BEST [-31.92364993 -31.89292492]\n",
      "NEW BEST [-31.90956571 -31.94014241]\n",
      "NEW BEST [-31.94643376 -31.9303394 ]\n",
      "NEW BEST [-31.96286447 -31.95750377]\n",
      "NEW BEST [-31.9596085  -31.98996662]\n",
      "NEW BEST [-31.97978411 -32.02971248]\n",
      "NEW BEST [-31.99165308 -32.02345658]\n",
      "NEW BEST [-31.98727941 -31.98512736]\n",
      "NEW BEST [-31.98096252 -31.9882535 ]\n"
     ]
    }
   ],
   "source": [
    "# Jalankan algoritma Firefly\n",
    "positions = firefly_algorithm()\n",
    "history.append(positions.copy())"
   ],
   "metadata": {
    "collapsed": false,
    "is_executing": true,
    "ExecuteTime": {
     "start_time": "2024-05-30T13:37:58.087314Z"
    }
   },
   "id": "8fe684698deb309f",
   "execution_count": null
  },
  {
   "cell_type": "markdown",
   "source": [
    "# Visualisasi Plot hasil dan animasi"
   ],
   "metadata": {
    "collapsed": false
   },
   "id": "c3df0364283242a3"
  },
  {
   "cell_type": "code",
   "outputs": [],
   "source": [
    "# Prepare contour plot data\n",
    "X1 = np.linspace(lb, ub, 400)\n",
    "X2 = np.linspace(lb, ub, 400)\n",
    "X1, X2 = np.meshgrid(X1, X2)\n",
    "Z = np.array([F14(np.array([x1, x2])) for x1, x2 in zip(X1.ravel(), X2.ravel())]).reshape(X1.shape)\n",
    "\n",
    "# Set up the plot and axes for animation\n",
    "fig, ax = plt.subplots()\n",
    "ax.set_xlim(lb, ub)\n",
    "ax.set_ylim(lb, ub)\n",
    "contour = ax.contour(X1, X2, Z, levels=50)\n",
    "scatter = ax.scatter([], [], c='red')  # Solution candidates\n",
    "\n",
    "# Update function for animation\n",
    "def update(frame):\n",
    "    positions = history[frame]\n",
    "    scatter.set_offsets(positions)\n",
    "    ax.set_title(f'Firefly Algorithm Iteration {frame + 1}')\n",
    "    return scatter,\n",
    "\n",
    "ani = FuncAnimation(fig, update, frames=len(history), blit=True, repeat=False)\n",
    "plt.show()"
   ],
   "metadata": {
    "collapsed": false,
    "is_executing": true
   },
   "id": "4940bd8b06c7caac",
   "execution_count": null
  },
  {
   "cell_type": "markdown",
   "source": [
    "# Genrating & Saving GIF"
   ],
   "metadata": {
    "collapsed": false
   },
   "id": "3fa1e86d62c071aa"
  },
  {
   "cell_type": "code",
   "outputs": [],
   "source": [
    "# Manage run count\n",
    "run_count_file = 'run_count_gen0.txt'\n",
    "\n",
    "# Read current run count\n",
    "try:\n",
    "    with open(run_count_file, 'r') as f:\n",
    "        run_count = int(f.read().strip())\n",
    "except FileNotFoundError:\n",
    "    run_count = 0\n",
    "\n",
    "# Increment run count\n",
    "run_count += 1\n",
    "\n",
    "# Save new run count\n",
    "with open(run_count_file, 'w') as f:\n",
    "    f.write(str(run_count))\n",
    "\n",
    "# Save the animation as a GIF with incremented name\n",
    "gif_filename = f'Firefly-Gen0.{run_count}..gif'\n",
    "ani.save(gif_filename, writer=PillowWriter(fps=5))\n",
    "\n",
    "plt.show()"
   ],
   "metadata": {
    "collapsed": false,
    "is_executing": true
   },
   "id": "2292e85d7e6c5d52",
   "execution_count": null
  }
 ],
 "metadata": {
  "kernelspec": {
   "display_name": "Python 3",
   "language": "python",
   "name": "python3"
  },
  "language_info": {
   "codemirror_mode": {
    "name": "ipython",
    "version": 2
   },
   "file_extension": ".py",
   "mimetype": "text/x-python",
   "name": "python",
   "nbconvert_exporter": "python",
   "pygments_lexer": "ipython2",
   "version": "2.7.6"
  }
 },
 "nbformat": 4,
 "nbformat_minor": 5
}
