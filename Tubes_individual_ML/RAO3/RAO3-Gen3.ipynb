{
 "cells": [
  {
   "cell_type": "markdown",
   "source": [
    "# RAO3 Algorithm\n",
    "\n",
    "Name : Dawwi Raissa Damarjati Muljana\n",
    "SID : 1301213517"
   ],
   "metadata": {
    "collapsed": false
   },
   "id": "a5a68a1b0b0a9ad9"
  },
  {
   "cell_type": "markdown",
   "source": [
    "# Kode"
   ],
   "metadata": {
    "collapsed": false
   },
   "id": "8973f1405c5dcaeb"
  },
  {
   "cell_type": "code",
   "outputs": [],
   "source": [
    "#importing\n",
    "import numpy as np\n",
    "import matplotlib.pyplot as plt\n",
    "from matplotlib.animation import FuncAnimation, PillowWriter"
   ],
   "metadata": {
    "collapsed": false,
    "ExecuteTime": {
     "end_time": "2024-05-29T14:24:24.765463Z",
     "start_time": "2024-05-29T14:24:24.761901Z"
    }
   },
   "id": "f91ce2b6430b4c3a",
   "execution_count": 156
  },
  {
   "cell_type": "markdown",
   "source": [
    "# Fungsi F14 "
   ],
   "metadata": {
    "collapsed": false
   },
   "id": "81cd4242fe572af3"
  },
  {
   "cell_type": "code",
   "outputs": [],
   "source": [
    "def F14(x):\n",
    "    aS = np.array([\n",
    "        [-32, -16, 0, 16, 32, -32, -16, 0, 16, 32, -32, -16, 0, 16, 32, -32, -16, 0, 16, 32, -32, -16, 0, 16, 32],\n",
    "        [-32, -32, -32, -32, -32, -16, -16, -16, -16, -16, 0, 0, 0, 0, 0, 16, 16, 16, 16, 16, 32, 32, 32, 32, 32]\n",
    "    ])\n",
    "    # Ensure x is reshaped to (2, 1)\n",
    "    x = x.reshape(2, 1)\n",
    "    bS = np.sum((x - aS) ** 6, axis=0)\n",
    "    return (1 / 500 + np.sum(1 / (np.arange(1, 26) + bS))) ** -1"
   ],
   "metadata": {
    "collapsed": false,
    "ExecuteTime": {
     "end_time": "2024-05-29T14:24:24.803086Z",
     "start_time": "2024-05-29T14:24:24.799053Z"
    }
   },
   "id": "83f7e65e51fcfe2e",
   "execution_count": 157
  },
  {
   "cell_type": "markdown",
   "source": [
    "# Parameters"
   ],
   "metadata": {
    "collapsed": false
   },
   "id": "43d23c433b0982ad"
  },
  {
   "cell_type": "code",
   "outputs": [],
   "source": [
    "pop_size = 25\n",
    "iterations = 100\n",
    "bounds = [-50, 100]"
   ],
   "metadata": {
    "collapsed": false,
    "ExecuteTime": {
     "end_time": "2024-05-29T14:24:24.806890Z",
     "start_time": "2024-05-29T14:24:24.804092Z"
    }
   },
   "id": "d7349c512edfc1c4",
   "execution_count": 158
  },
  {
   "cell_type": "code",
   "outputs": [],
   "source": [
    "# Inisialisasi populasi awal secara acak\n",
    "np.random.seed(20)\n",
    "population = np.random.uniform(bounds[0], bounds[1], (pop_size, 2))"
   ],
   "metadata": {
    "collapsed": false,
    "ExecuteTime": {
     "end_time": "2024-05-29T14:24:24.815132Z",
     "start_time": "2024-05-29T14:24:24.812412Z"
    }
   },
   "id": "240479dce3cf7b3c",
   "execution_count": 159
  },
  {
   "cell_type": "code",
   "outputs": [],
   "source": [
    "# Function to calculate fitness\n",
    "def calculate_fitness(population):\n",
    "    return np.array([F14(individual) for individual in population])"
   ],
   "metadata": {
    "collapsed": false,
    "ExecuteTime": {
     "end_time": "2024-05-29T14:24:24.820633Z",
     "start_time": "2024-05-29T14:24:24.817138Z"
    }
   },
   "id": "a43a3360bd3a5b46",
   "execution_count": 160
  },
  {
   "cell_type": "code",
   "outputs": [
    {
     "name": "stdout",
     "output_type": "stream",
     "text": [
      "[499.9999443  499.99997236 499.99708248 497.04746555 499.97455155\n",
      " 499.99697359 499.9999484  499.9996359  499.99915543 459.57115275\n",
      " 499.99998679 497.64375593 499.99934955 499.99988368 497.68451343\n",
      " 499.99621719 498.94618008 499.99934828 489.93711954 491.66790386\n",
      " 499.90838199 496.93616127 492.5928775  498.84281532 499.99979674]\n"
     ]
    }
   ],
   "source": [
    "fitness = calculate_fitness(population)\n",
    "print(fitness)"
   ],
   "metadata": {
    "collapsed": false,
    "ExecuteTime": {
     "end_time": "2024-05-29T14:24:24.827259Z",
     "start_time": "2024-05-29T14:24:24.821642Z"
    }
   },
   "id": "f5a01d1ce2a2d16e",
   "execution_count": 161
  },
  {
   "cell_type": "markdown",
   "source": [
    "# RAO3 Alogrithm"
   ],
   "metadata": {
    "collapsed": false
   },
   "id": "9902483d8fd7289f"
  },
  {
   "cell_type": "code",
   "outputs": [],
   "source": [
    "# Define the RAO3 algorithm"
   ],
   "metadata": {
    "collapsed": false,
    "ExecuteTime": {
     "end_time": "2024-05-29T14:24:24.830994Z",
     "start_time": "2024-05-29T14:24:24.828264Z"
    }
   },
   "id": "6fd892d141d42f6a",
   "execution_count": 162
  },
  {
   "cell_type": "markdown",
   "source": [
    "# Run RAO3"
   ],
   "metadata": {
    "collapsed": false
   },
   "id": "aec85a91a132e836"
  },
  {
   "cell_type": "code",
   "outputs": [
    {
     "name": "stdout",
     "output_type": "stream",
     "text": [
      "Best solution: [-31.83670231 -31.81176836]\n"
     ]
    }
   ],
   "source": [
    "def RAO3(pop_size, iterations, bounds, fobj):\n",
    "    # Initialize population\n",
    "    population = np.random.uniform(bounds[0], bounds[1], (pop_size, len(bounds)))\n",
    "    best_sol = population[np.argmin([fobj(ind) for ind in population])]\n",
    "    worst_sol = population[np.argmax([fobj(ind) for ind in population])]\n",
    "    \n",
    "    history = [population.copy()]\n",
    "    \n",
    "    for _ in range(iterations):\n",
    "        for i in range(pop_size):\n",
    "            k = np.random.randint(pop_size)\n",
    "            r1, r2 = np.random.random(), np.random.random()\n",
    "            \n",
    "            if fobj(population[i]) < fobj(population[k]):\n",
    "                new_sol = population[i] + r1 * (best_sol - np.abs(worst_sol)) + r2 * (np.abs(population[i]) - population[k])\n",
    "            else:\n",
    "                new_sol = population[i] + r1 * (best_sol - np.abs(worst_sol)) + r2 * (np.abs(population[k]) - population[i])\n",
    "            \n",
    "            new_sol = np.clip(new_sol, bounds[0], bounds[1])\n",
    "            \n",
    "            if fobj(new_sol) < fobj(population[i]):\n",
    "                population[i] = new_sol\n",
    "                \n",
    "        best_sol = population[np.argmin([fobj(ind) for ind in population])]\n",
    "        worst_sol = population[np.argmax([fobj(ind) for ind in population])]\n",
    "        history.append(population.copy())\n",
    "    \n",
    "    return history, best_sol\n",
    "\n",
    "# Call the RAO3 function with the F14 function as the objective function\n",
    "history, best_solution = RAO3(pop_size, iterations, bounds, F14)\n",
    "\n",
    "# Output the best solution found\n",
    "print(\"Best solution:\", best_solution)\n"
   ],
   "metadata": {
    "collapsed": false,
    "ExecuteTime": {
     "end_time": "2024-05-29T14:24:25.134724Z",
     "start_time": "2024-05-29T14:24:24.832001Z"
    }
   },
   "id": "1951e7346f4cbccb",
   "execution_count": 163
  },
  {
   "cell_type": "markdown",
   "source": [
    "# Plotting solution space"
   ],
   "metadata": {
    "collapsed": false
   },
   "id": "833d9b50b350d267"
  },
  {
   "cell_type": "code",
   "outputs": [
    {
     "data": {
      "text/plain": "<Figure size 640x480 with 1 Axes>",
      "image/png": "[encoded data removed]"
     },
     "metadata": {},
     "output_type": "display_data"
    }
   ],
   "source": [
    "# Prepare contour plot data\n",
    "bounds = (-100, 100)\n",
    "X1 = np.linspace(bounds[0], bounds[1], 400)\n",
    "X2 = np.linspace(bounds[0], bounds[1], 400)\n",
    "X1, X2 = np.meshgrid(X1, X2)\n",
    "Z = np.array([F14(np.array([x1, x2])) for x1, x2 in zip(X1.ravel(), X2.ravel())]).reshape(X1.shape)\n",
    "\n",
    "# Set up the plot and axes for animation\n",
    "fig, ax = plt.subplots()\n",
    "ax.set_xlim(bounds[0], bounds[1])\n",
    "ax.set_ylim(bounds[0], bounds[1])\n",
    "contour = ax.contour(X1, X2, Z, levels=50)\n",
    "scatter = ax.scatter([], [], c='red')  # Solution candidates\n",
    "\n",
    "# Update function for animation\n",
    "def update(frame):\n",
    "    positions = history[frame]\n",
    "    scatter.set_offsets(positions)\n",
    "    ax.set_title(f'Rao Algorithm V3 Iteration {frame + 1}')\n",
    "    return scatter,\n",
    "\n",
    "ani = FuncAnimation(fig, update, frames=len(history), blit=True, repeat=False)\n",
    "plt.show()"
   ],
   "metadata": {
    "collapsed": false,
    "ExecuteTime": {
     "end_time": "2024-05-29T14:24:28.676038Z",
     "start_time": "2024-05-29T14:24:25.135677Z"
    }
   },
   "id": "1594718b63798840",
   "execution_count": 164
  },
  {
   "cell_type": "markdown",
   "source": [
    "# Saving GIF"
   ],
   "metadata": {
    "collapsed": false
   },
   "id": "55f913d5a89729e3"
  },
  {
   "cell_type": "code",
   "outputs": [],
   "source": [
    "# Manage run count\n",
    "run_count_file = 'run_count_gen3.txt'\n",
    "\n",
    "# Read current run count\n",
    "try:\n",
    "    with open(run_count_file, 'r') as f:\n",
    "        run_count = int(f.read().strip())\n",
    "except FileNotFoundError:\n",
    "    run_count = 0\n",
    "\n",
    "# Increment run count\n",
    "run_count += 1\n",
    "\n",
    "# Save new run count\n",
    "with open(run_count_file, 'w') as f:\n",
    "    f.write(str(run_count))\n",
    "\n",
    "# Save the animation as a GIF with incremented name\n",
    "gif_filename = f'RAO3-Gen3-V2.{run_count}..gif'\n",
    "ani.save(gif_filename, writer=PillowWriter(fps=5))\n",
    "\n",
    "plt.show()"
   ],
   "metadata": {
    "collapsed": false,
    "ExecuteTime": {
     "end_time": "2024-05-29T14:24:37.180970Z",
     "start_time": "2024-05-29T14:24:28.677047Z"
    }
   },
   "id": "6072d2bce72de8d2",
   "execution_count": 165
  }
 ],
 "metadata": {
  "kernelspec": {
   "display_name": "Python 3",
   "language": "python",
   "name": "python3"
  },
  "language_info": {
   "codemirror_mode": {
    "name": "ipython",
    "version": 2
   },
   "file_extension": ".py",
   "mimetype": "text/x-python",
   "name": "python",
   "nbconvert_exporter": "python",
   "pygments_lexer": "ipython2",
   "version": "2.7.6"
  }
 },
 "nbformat": 4,
 "nbformat_minor": 5
}
