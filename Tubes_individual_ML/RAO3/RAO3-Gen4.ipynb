{
 "cells": [
  {
   "cell_type": "markdown",
   "source": [
    "# RAO3 Algorithm\n",
    "\n",
    "Name : Dawwi Raissa Damarjati Muljana\n",
    "SID : 1301213517"
   ],
   "metadata": {
    "collapsed": false
   },
   "id": "a5a68a1b0b0a9ad9"
  },
  {
   "cell_type": "markdown",
   "source": [
    "# Kode"
   ],
   "metadata": {
    "collapsed": false
   },
   "id": "8973f1405c5dcaeb"
  },
  {
   "cell_type": "code",
   "outputs": [],
   "source": [
    "#importing\n",
    "import numpy as np\n",
    "import matplotlib.pyplot as plt\n",
    "from matplotlib.animation import FuncAnimation, PillowWriter\n",
    "from tqdm import tqdm\n",
    "from termcolor import colored\n",
    "from IPython.display import display, HTML\n",
    "from datetime import datetime"
   ],
   "metadata": {
    "collapsed": false,
    "ExecuteTime": {
     "end_time": "2024-05-31T12:50:47.132099Z",
     "start_time": "2024-05-31T12:50:45.098480Z"
    }
   },
   "id": "f91ce2b6430b4c3a",
   "execution_count": 2
  },
  {
   "cell_type": "markdown",
   "source": [
    "# Fungsi F14 "
   ],
   "metadata": {
    "collapsed": false
   },
   "id": "81cd4242fe572af3"
  },
  {
   "cell_type": "code",
   "outputs": [
    {
     "data": {
      "text/plain": "<IPython.core.display.HTML object>",
      "text/html": "<span style=\"color: green;\">Proses finish at 19:50:47</span>"
     },
     "metadata": {},
     "output_type": "display_data"
    }
   ],
   "source": [
    "def F14(x):\n",
    "    aS = np.array([\n",
    "        [-32, -16, 0, 16, 32, -32, -16, 0, 16, 32, -32, -16, 0, 16, 32, -32, -16, 0, 16, 32, -32, -16, 0, 16, 32],\n",
    "        [-32, -32, -32, -32, -32, -16, -16, -16, -16, -16, 0, 0, 0, 0, 0, 16, 16, 16, 16, 16, 32, 32, 32, 32, 32]\n",
    "    ])\n",
    "    # Ensure x is reshaped to (2, 1)\n",
    "    x = x.reshape(2, 1)\n",
    "    bS = np.sum((x - aS) ** 6, axis=0)\n",
    "    return (1 / 500 + np.sum(1 / (np.arange(1, 26) + bS))) ** -1\n",
    "\n",
    "display(HTML(f'<span style=\"color: green;\">Proses finish at {datetime.now().strftime(\"%H:%M:%S\")}</span>'))"
   ],
   "metadata": {
    "collapsed": false,
    "ExecuteTime": {
     "end_time": "2024-05-31T12:50:47.144050Z",
     "start_time": "2024-05-31T12:50:47.133105Z"
    }
   },
   "id": "83f7e65e51fcfe2e",
   "execution_count": 3
  },
  {
   "cell_type": "markdown",
   "source": [
    "# Parameters"
   ],
   "metadata": {
    "collapsed": false
   },
   "id": "43d23c433b0982ad"
  },
  {
   "cell_type": "code",
   "outputs": [],
   "source": [
    "pop_size = 50\n",
    "iterations = 100\n",
    "bounds = [-50, 100]"
   ],
   "metadata": {
    "collapsed": false,
    "ExecuteTime": {
     "end_time": "2024-05-31T12:50:47.149998Z",
     "start_time": "2024-05-31T12:50:47.145063Z"
    }
   },
   "id": "d7349c512edfc1c4",
   "execution_count": 4
  },
  {
   "cell_type": "code",
   "outputs": [],
   "source": [
    "# Inisialisasi populasi awal secara acak\n",
    "# np.random.seed(20)\n",
    "population = np.random.uniform(bounds[0], bounds[1], (pop_size, 2))"
   ],
   "metadata": {
    "collapsed": false,
    "ExecuteTime": {
     "end_time": "2024-05-31T12:50:47.157744Z",
     "start_time": "2024-05-31T12:50:47.153011Z"
    }
   },
   "id": "240479dce3cf7b3c",
   "execution_count": 5
  },
  {
   "cell_type": "code",
   "outputs": [
    {
     "data": {
      "text/plain": "<IPython.core.display.HTML object>",
      "text/html": "<span style=\"color: green;\">Proses finish at 19:50:47</span>"
     },
     "metadata": {},
     "output_type": "display_data"
    }
   ],
   "source": [
    "# Function to calculate fitness\n",
    "def calculate_fitness(population):\n",
    "    return np.array([F14(individual) for individual in population])\n",
    "display(HTML(f'<span style=\"color: green;\">Proses finish at {datetime.now().strftime(\"%H:%M:%S\")}</span>'))"
   ],
   "metadata": {
    "collapsed": false,
    "ExecuteTime": {
     "end_time": "2024-05-31T12:50:47.166026Z",
     "start_time": "2024-05-31T12:50:47.159756Z"
    }
   },
   "id": "a43a3360bd3a5b46",
   "execution_count": 6
  },
  {
   "cell_type": "code",
   "outputs": [
    {
     "name": "stdout",
     "output_type": "stream",
     "text": [
      "[499.87180707 499.99998373 499.99972256 499.99134735 497.0054857\n",
      " 499.99993036 482.69352622 499.99994518 499.99998409 492.33495063\n",
      " 499.99939065 493.17952554 497.14063993 499.9999865  499.99904451\n",
      " 494.84777579 499.99995831 499.71661121 499.99997115 499.99986832\n",
      " 499.99994066 499.99159489 499.99998426 499.97383404 497.89542526\n",
      " 495.44557731 499.99956845 499.99997952 498.00083704 499.98121818\n",
      " 499.99977396 499.99891423 499.93472778 499.69242731 496.21878877\n",
      " 499.9968431  499.99996953 499.94773932 492.07256133 426.64108567\n",
      " 499.99988586 499.99997964 499.99997915 499.99996911 499.99989173\n",
      " 499.99993625 499.99974006 499.99302767 499.99985828 454.15903587]\n"
     ]
    },
    {
     "data": {
      "text/plain": "<IPython.core.display.HTML object>",
      "text/html": "<span style=\"color: green;\">Proses finish at 19:50:47</span>"
     },
     "metadata": {},
     "output_type": "display_data"
    }
   ],
   "source": [
    "fitness = calculate_fitness(population)\n",
    "print(fitness)\n",
    "\n",
    "display(HTML(f'<span style=\"color: green;\">Proses finish at {datetime.now().strftime(\"%H:%M:%S\")}</span>'))"
   ],
   "metadata": {
    "collapsed": false,
    "ExecuteTime": {
     "end_time": "2024-05-31T12:50:47.178048Z",
     "start_time": "2024-05-31T12:50:47.168037Z"
    }
   },
   "id": "f5a01d1ce2a2d16e",
   "execution_count": 7
  },
  {
   "cell_type": "markdown",
   "source": [
    "# RAO3 Alogrithm"
   ],
   "metadata": {
    "collapsed": false
   },
   "id": "9902483d8fd7289f"
  },
  {
   "cell_type": "code",
   "outputs": [],
   "source": [
    "# Define the RAO3 algorithm"
   ],
   "metadata": {
    "collapsed": false,
    "ExecuteTime": {
     "end_time": "2024-05-31T12:50:47.182479Z",
     "start_time": "2024-05-31T12:50:47.179056Z"
    }
   },
   "id": "6fd892d141d42f6a",
   "execution_count": 8
  },
  {
   "cell_type": "markdown",
   "source": [
    "# Run RAO3"
   ],
   "metadata": {
    "collapsed": false
   },
   "id": "aec85a91a132e836"
  },
  {
   "cell_type": "code",
   "outputs": [
    {
     "name": "stderr",
     "output_type": "stream",
     "text": [
      "Optimizing:   0%|          | 0/100 [00:00<?, ?it/s]:  36%|███▌      | 36/100 [00:00<00:00, 351.16it/s]:  75%|███████▌  | 75/100 [00:00<00:00, 368.19it/s]: 100%|██████████| 100/100 [00:00<00:00, 360.26it/s]\n"
     ]
    },
    {
     "name": "stdout",
     "output_type": "stream",
     "text": [
      "Best solution: [-2.01352982e-05  1.42944261e-05  1.04789321e-04 -1.40716016e-04\n",
      " -1.00038862e-04 -2.44869156e-04  6.56328160e-05  2.79302970e-04\n",
      "  6.71133452e-06 -2.78386611e-05]\n",
      "STOPPING RECORDING\n"
     ]
    }
   ],
   "source": [
    "import numpy as np\n",
    "from tqdm import tqdm\n",
    "from termcolor import colored\n",
    "from colorama import Fore, Style, init\n",
    "\n",
    "init(autoreset=True)\n",
    "\n",
    "def RAO3(pop_size, iterations, bounds, fobj):\n",
    "    # Initialize population\n",
    "    dim = len(bounds)\n",
    "    population = np.random.uniform([b[0] for b in bounds], [b[1] for b in bounds], (pop_size, dim))\n",
    "    best_sol = population[np.argmin([fobj(ind) for ind in population])]\n",
    "    worst_sol = population[np.argmax([fobj(ind) for ind in population])]\n",
    "    \n",
    "    history = [population.copy()]\n",
    "    \n",
    "    for _ in tqdm(range(iterations), desc=Fore.GREEN + \"Optimizing\" + Style.RESET_ALL):\n",
    "        for i in range(pop_size):\n",
    "            k = np.random.randint(pop_size)\n",
    "            r1, r2 = np.random.random(), np.random.random()\n",
    "            \n",
    "            if fobj(population[i]) < fobj(population[k]):\n",
    "                new_sol = population[i] + r1 * (best_sol - np.abs(worst_sol)) + r2 * (np.abs(population[i]) - population[k])\n",
    "            else:\n",
    "                new_sol = population[i] + r1 * (best_sol - np.abs(worst_sol)) + r2 * (np.abs(population[k]) - population[i])\n",
    "            \n",
    "            new_sol = np.clip(new_sol, [b[0] for b in bounds], [b[1] for b in bounds])\n",
    "            \n",
    "            if fobj(new_sol) < fobj(population[i]):\n",
    "                population[i] = new_sol\n",
    "                \n",
    "        best_sol = population[np.argmin([fobj(ind) for ind in population])]\n",
    "        worst_sol = population[np.argmax([fobj(ind) for ind in population])]\n",
    "        history.append(population.copy())\n",
    "    \n",
    "    return history, best_sol\n",
    "\n",
    "# Define the F14 objective function (as an example, replace with your specific function)\n",
    "def F14(x):\n",
    "    return np.sum(x**2)\n",
    "\n",
    "# Parameters\n",
    "pop_size = 50  # example population size\n",
    "iterations = 100  # example number of iterations\n",
    "bounds = [(-100, 100)] * 10  # example bounds for a 10-dimensional problem\n",
    "\n",
    "# Call the RAO3 function with the F14 function as the objective function\n",
    "history, best_solution = RAO3(pop_size, iterations, bounds, F14)\n",
    "\n",
    "# Output the best solution found\n",
    "print(\"Best solution:\", best_solution)\n",
    "\n",
    "print(colored(\"STOPPING RECORDING\", \"red\"))"
   ],
   "metadata": {
    "collapsed": false,
    "ExecuteTime": {
     "end_time": "2024-05-31T13:02:43.678421Z",
     "start_time": "2024-05-31T13:02:43.362542Z"
    }
   },
   "id": "1951e7346f4cbccb",
   "execution_count": 14
  },
  {
   "cell_type": "markdown",
   "source": [
    "# Plotting solution space"
   ],
   "metadata": {
    "collapsed": false
   },
   "id": "833d9b50b350d267"
  },
  {
   "cell_type": "code",
   "outputs": [],
   "source": [
    "# Prepare contour plot data\n",
    "bounds1 = -100\n",
    "bounds2 = 100\n",
    "X1 = np.linspace(bounds1, bounds2, 400)\n",
    "X2 = np.linspace(bounds1, bounds2, 400)\n",
    "X1, X2 = np.meshgrid(X1, X2)\n",
    "Z = np.array([F14(np.array([x1, x2])) for x1, x2 in zip(X1.ravel(), X2.ravel())]).reshape(X1.shape)\n",
    "\n",
    "# Set up the plot and axes for animation\n",
    "fig, ax = plt.subplots(figsize=(10, 7))\n",
    "ax.set_xlim(bounds1, bounds2)\n",
    "ax.set_ylim(bounds1, bounds2)\n",
    "contour = ax.contour(X1, X2, Z, levels=50)\n",
    "scatter = ax.scatter([], [], c='red')  # Solution candidates\n",
    "\n",
    "# Update function for animation\n",
    "def update(frame):\n",
    "    positions = history[frame]\n",
    "    scatter.set_offsets(positions)\n",
    "    ax.set_title(f'Rao Algorithm V3 Iteration {frame + 1}')\n",
    "    return scatter,\n",
    "\n",
    "ani = FuncAnimation(fig, update, frames=len(history), blit=True, repeat=False)\n",
    "\n",
    "# Save the animation as a GIF with incremented name\n",
    "gif_filename = f'RAO3.gif'\n",
    "ani.save(gif_filename, writer=PillowWriter(fps=5))\n",
    "\n",
    "# Show animation\n",
    "plt.show()"
   ],
   "metadata": {
    "collapsed": false,
    "ExecuteTime": {
     "start_time": "2024-05-31T12:50:47.309889Z"
    }
   },
   "id": "1594718b63798840",
   "execution_count": null
  },
  {
   "cell_type": "markdown",
   "source": [
    "# Saving GIF"
   ],
   "metadata": {
    "collapsed": false
   },
   "id": "55f913d5a89729e3"
  },
  {
   "cell_type": "code",
   "outputs": [],
   "source": [
    "# Manage run count\n",
    "run_count_file = 'run_count_gen4.txt'\n",
    "\n",
    "# Read current run count\n",
    "try:\n",
    "    with open(run_count_file, 'r') as f:\n",
    "        run_count = int(f.read().strip())\n",
    "except FileNotFoundError:\n",
    "    run_count = 0\n",
    "\n",
    "# Increment run count\n",
    "run_count += 1\n",
    "\n",
    "# Save new run count\n",
    "with open(run_count_file, 'w') as f:\n",
    "    f.write(str(run_count))\n",
    "\n",
    "# Save the animation as a GIF with incremented name\n",
    "gif_filename = f'RAO3-Gen4.{run_count}..gif'\n",
    "ani.save(gif_filename, writer=PillowWriter(fps=5))\n",
    "\n",
    "plt.show()"
   ],
   "metadata": {
    "collapsed": false,
    "ExecuteTime": {
     "end_time": "2024-05-31T12:50:47.311889Z",
     "start_time": "2024-05-31T12:50:47.311889Z"
    }
   },
   "id": "6072d2bce72de8d2",
   "execution_count": null
  }
 ],
 "metadata": {
  "kernelspec": {
   "display_name": "Python 3",
   "language": "python",
   "name": "python3"
  },
  "language_info": {
   "codemirror_mode": {
    "name": "ipython",
    "version": 2
   },
   "file_extension": ".py",
   "mimetype": "text/x-python",
   "name": "python",
   "nbconvert_exporter": "python",
   "pygments_lexer": "ipython2",
   "version": "2.7.6"
  }
 },
 "nbformat": 4,
 "nbformat_minor": 5
}
