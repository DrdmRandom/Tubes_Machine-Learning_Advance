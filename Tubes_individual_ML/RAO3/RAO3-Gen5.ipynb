{
 "cells": [
  {
   "cell_type": "markdown",
   "source": [
    "# RAO3 Algorithm\n",
    "\n",
    "Name : Dawwi Raissa Damarjati Muljana\n",
    "SID : 1301213517"
   ],
   "metadata": {
    "collapsed": false
   },
   "id": "a5a68a1b0b0a9ad9"
  },
  {
   "cell_type": "markdown",
   "source": [
    "# Kode"
   ],
   "metadata": {
    "collapsed": false
   },
   "id": "8973f1405c5dcaeb"
  },
  {
   "cell_type": "code",
   "outputs": [],
   "source": [
    "#importing\n",
    "import numpy as np\n",
    "import matplotlib.pyplot as plt\n",
    "from matplotlib.animation import FuncAnimation, PillowWriter\n",
    "from tqdm import tqdm"
   ],
   "metadata": {
    "collapsed": false,
    "ExecuteTime": {
     "end_time": "2024-06-02T14:47:58.220229Z",
     "start_time": "2024-06-02T14:47:58.216459Z"
    }
   },
   "id": "f91ce2b6430b4c3a",
   "execution_count": 53
  },
  {
   "cell_type": "markdown",
   "source": [
    "# Fungsi F14 "
   ],
   "metadata": {
    "collapsed": false
   },
   "id": "81cd4242fe572af3"
  },
  {
   "cell_type": "code",
   "outputs": [],
   "source": [
    "def F14(x):\n",
    "    aS = np.array([\n",
    "        [-32, -16, 0, 16, 32, -32, -16, 0, 16, 32, -32, -16, 0, 16, 32, -32, -16, 0, 16, 32, -32, -16, 0, 16, 32],\n",
    "        [-32, -32, -32, -32, -32, -16, -16, -16, -16, -16, 0, 0, 0, 0, 0, 16, 16, 16, 16, 16, 32, 32, 32, 32, 32]\n",
    "    ])\n",
    "    # Ensure x is reshaped to (2, 1)\n",
    "    x = x.reshape(2, 1)\n",
    "    bS = np.sum((x - aS) ** 6, axis=0)\n",
    "    return (1 / 500 + np.sum(1 / (np.arange(1, 26) + bS))) ** -1"
   ],
   "metadata": {
    "collapsed": false,
    "ExecuteTime": {
     "end_time": "2024-06-02T14:47:58.280832Z",
     "start_time": "2024-06-02T14:47:58.276235Z"
    }
   },
   "id": "83f7e65e51fcfe2e",
   "execution_count": 54
  },
  {
   "cell_type": "markdown",
   "source": [
    "# Parameters"
   ],
   "metadata": {
    "collapsed": false
   },
   "id": "43d23c433b0982ad"
  },
  {
   "cell_type": "code",
   "outputs": [],
   "source": [
    "pop_size = 75\n",
    "iterations = 100\n",
    "bounds = [-50, 100]"
   ],
   "metadata": {
    "collapsed": false,
    "ExecuteTime": {
     "end_time": "2024-06-02T14:47:58.298245Z",
     "start_time": "2024-06-02T14:47:58.293858Z"
    }
   },
   "id": "d7349c512edfc1c4",
   "execution_count": 55
  },
  {
   "cell_type": "code",
   "outputs": [],
   "source": [
    "# Inisialisasi populasi awal secara acak\n",
    "# np.random.seed(20)\n",
    "population = np.random.uniform(bounds[0], bounds[1], (pop_size, 2))"
   ],
   "metadata": {
    "collapsed": false,
    "ExecuteTime": {
     "end_time": "2024-06-02T14:47:58.321984Z",
     "start_time": "2024-06-02T14:47:58.317763Z"
    }
   },
   "id": "240479dce3cf7b3c",
   "execution_count": 56
  },
  {
   "cell_type": "code",
   "outputs": [],
   "source": [
    "# Function to calculate fitness\n",
    "def calculate_fitness(population):\n",
    "    return np.array([F14(individual) for individual in population])"
   ],
   "metadata": {
    "collapsed": false,
    "ExecuteTime": {
     "end_time": "2024-06-02T14:47:58.345141Z",
     "start_time": "2024-06-02T14:47:58.341987Z"
    }
   },
   "id": "a43a3360bd3a5b46",
   "execution_count": 57
  },
  {
   "cell_type": "code",
   "outputs": [
    {
     "name": "stdout",
     "output_type": "stream",
     "text": [
      "[499.99997269 499.99999084 395.67923806 494.22605519  14.47889363\n",
      " 483.25862616 499.99998596 499.99997217 499.99998775 499.99995095\n",
      " 496.44307919 499.97815376 499.98338267 499.99993677 499.99914341\n",
      " 499.99997334 497.47511538 499.99980169 114.82778546 499.99985441\n",
      " 499.9949111  499.99855056 499.99582517 499.71220081 499.93766559\n",
      " 499.99870985 499.99921224 499.99973066 499.99725002 499.99545968\n",
      " 499.96597801 497.93458144 497.40002294 421.61701402 499.96359261\n",
      " 499.97862601 499.99987526 499.99924039 499.99944924 499.9997646\n",
      " 499.99997436 497.88663826 499.96493554 499.99997616 499.98585779\n",
      " 499.99987387 499.99742552 499.9575907  499.98202732 499.99181361\n",
      " 455.17804668 498.87773008 499.85169922 499.96377084 499.97264222\n",
      " 499.79164531 499.99890042 499.99954975 499.99970868 495.66823145\n",
      " 499.99304442 499.98900444 497.76372755 479.09164389 499.99755325\n",
      " 498.02280328   1.18837107 491.21989887 499.99997365 457.17579128\n",
      " 499.99997055 496.34822875 499.99998013 499.99996801 499.99938215]\n"
     ]
    }
   ],
   "source": [
    "fitness = calculate_fitness(population)\n",
    "print(fitness)"
   ],
   "metadata": {
    "collapsed": false,
    "ExecuteTime": {
     "end_time": "2024-06-02T14:47:58.352393Z",
     "start_time": "2024-06-02T14:47:58.346145Z"
    }
   },
   "id": "f5a01d1ce2a2d16e",
   "execution_count": 58
  },
  {
   "cell_type": "markdown",
   "source": [
    "# RAO3 Alogrithm"
   ],
   "metadata": {
    "collapsed": false
   },
   "id": "9902483d8fd7289f"
  },
  {
   "cell_type": "code",
   "outputs": [],
   "source": [
    "# Define the RAO3 algorithm"
   ],
   "metadata": {
    "collapsed": false,
    "ExecuteTime": {
     "end_time": "2024-06-02T14:47:58.364347Z",
     "start_time": "2024-06-02T14:47:58.361397Z"
    }
   },
   "id": "6fd892d141d42f6a",
   "execution_count": 59
  },
  {
   "cell_type": "markdown",
   "source": [
    "# Run RAO3"
   ],
   "metadata": {
    "collapsed": false
   },
   "id": "aec85a91a132e836"
  },
  {
   "cell_type": "code",
   "outputs": [
    {
     "name": "stderr",
     "output_type": "stream",
     "text": [
      "Progress: 100%|\u001B[32m██████████\u001B[0m| 100/100 [00:00<00:00, 116.77it/s]"
     ]
    },
    {
     "name": "stdout",
     "output_type": "stream",
     "text": [
      "Best solution: [-31.88567281 -32.30344469]\n"
     ]
    },
    {
     "name": "stderr",
     "output_type": "stream",
     "text": [
      "\n"
     ]
    }
   ],
   "source": [
    "def RAO3(pop_size, iterations, bounds, fobj):\n",
    "    # Initialize population\n",
    "    population = np.random.uniform(bounds[0], bounds[1], (pop_size, len(bounds)))\n",
    "    fitness = np.array([fobj(ind) for ind in population])\n",
    "    best_sol = population[np.argmin(fitness)]\n",
    "    worst_sol = population[np.argmax(fitness)]\n",
    "    \n",
    "    history = [population.copy()]\n",
    "    \n",
    "    for _ in tqdm(range(iterations), desc=\"Progress\", colour=\"green\"):\n",
    "        for i in range(pop_size):\n",
    "            k = np.random.randint(pop_size)\n",
    "            r1, r2 = np.random.random(), np.random.random()\n",
    "            \n",
    "            if fobj(population[i]) < fobj(population[k]):\n",
    "                new_sol = population[i] + r1 * (best_sol - np.abs(worst_sol)) + r2 * (np.abs(population[i]) - population[k])\n",
    "            else:\n",
    "                new_sol = population[i] + r1 * (best_sol - np.abs(worst_sol)) + r2 * (np.abs(population[k]) - population[i])\n",
    "            \n",
    "            new_sol = np.clip(new_sol, bounds[0], bounds[1])\n",
    "            \n",
    "            if fobj(new_sol) < fobj(population[i]):\n",
    "                population[i] = new_sol\n",
    "        \n",
    "        fitness = np.array([fobj(ind) for ind in population])\n",
    "        best_sol = population[np.argmin(fitness)]\n",
    "        worst_sol = population[np.argmax(fitness)]\n",
    "        history.append(population.copy())\n",
    "    \n",
    "    return history, best_sol\n",
    "\n",
    "# Call the RAO3 function with the F14 function as the objective function\n",
    "history, best_solution = RAO3(pop_size, iterations, bounds, F14)\n",
    "\n",
    "# Output the best solution found\n",
    "print(\"Best solution:\", best_solution)"
   ],
   "metadata": {
    "collapsed": false,
    "ExecuteTime": {
     "end_time": "2024-06-02T14:47:59.288923Z",
     "start_time": "2024-06-02T14:47:58.420874Z"
    }
   },
   "id": "1951e7346f4cbccb",
   "execution_count": 60
  },
  {
   "cell_type": "markdown",
   "source": [
    "# Plotting solution space"
   ],
   "metadata": {
    "collapsed": false
   },
   "id": "833d9b50b350d267"
  },
  {
   "cell_type": "code",
   "outputs": [
    {
     "data": {
      "text/plain": "<Figure size 1000x700 with 2 Axes>",
      "image/png": "[encoded data removed]"
     },
     "metadata": {},
     "output_type": "display_data"
    }
   ],
   "source": [
    "# Prepare contour plot data\n",
    "bounds1 = -100\n",
    "bounds2 = 100\n",
    "X1 = np.linspace(bounds1, bounds2, 400)\n",
    "X2 = np.linspace(bounds1, bounds2, 400)\n",
    "X1, X2 = np.meshgrid(X1, X2)\n",
    "Z = np.array([F14(np.array([x1, x2])) for x1, x2 in zip(X1.ravel(), X2.ravel())]).reshape(X1.shape)\n",
    "\n",
    "# Set up the plot and axes for animation\n",
    "fig, ax = plt.subplots(figsize=(10, 7))\n",
    "ax.set_xlim(bounds1, bounds2)\n",
    "ax.set_ylim(bounds1, bounds2)\n",
    "contour = ax.contourf(X1, X2, Z, cmap='viridis')\n",
    "fig.colorbar(contour, ax=ax)\n",
    "scatter = ax.scatter([], [], c='red')  # Solution candidates\n",
    "\n",
    "# Menyelaraskan sumbu untuk membuat plot simetris\n",
    "ax.set_aspect('equal')\n",
    "\n",
    "# Update function for animation\n",
    "def update(frame):\n",
    "    positions = history[frame]\n",
    "    scatter.set_offsets(positions)\n",
    "    ax.set_title(f'Rao Algorithm V3 Iteration {frame + 1}')\n",
    "    return scatter,\n",
    "\n",
    "ani = FuncAnimation(fig, update, frames=len(history), blit=True, repeat=False)\n",
    "\n",
    "# Show animation\n",
    "plt.show()\n"
   ],
   "metadata": {
    "collapsed": false,
    "ExecuteTime": {
     "end_time": "2024-06-02T14:48:02.858822Z",
     "start_time": "2024-06-02T14:47:59.289934Z"
    }
   },
   "id": "1594718b63798840",
   "execution_count": 61
  },
  {
   "cell_type": "markdown",
   "source": [
    "# Saving GIF"
   ],
   "metadata": {
    "collapsed": false
   },
   "id": "55f913d5a89729e3"
  },
  {
   "cell_type": "code",
   "outputs": [],
   "source": [
    "# Manage run count\n",
    "run_count_file = 'run_count_gen5.txt'\n",
    "\n",
    "# Read current run count\n",
    "try:\n",
    "    with open(run_count_file, 'r') as f:\n",
    "        run_count = int(f.read().strip())\n",
    "except FileNotFoundError:\n",
    "    run_count = 0\n",
    "\n",
    "# Increment run count\n",
    "run_count += 1\n",
    "\n",
    "# Save new run count\n",
    "with open(run_count_file, 'w') as f:\n",
    "    f.write(str(run_count))\n",
    "\n",
    "# Save the animation as a GIF with incremented name\n",
    "gif_filename = f'RAO3-Gen5.{run_count}..gif'\n",
    "ani.save(gif_filename, writer=PillowWriter(fps=2))\n",
    "\n",
    "plt.show()"
   ],
   "metadata": {
    "collapsed": false,
    "ExecuteTime": {
     "end_time": "2024-06-02T14:48:12.143316Z",
     "start_time": "2024-06-02T14:48:02.858822Z"
    }
   },
   "id": "6072d2bce72de8d2",
   "execution_count": 62
  }
 ],
 "metadata": {
  "kernelspec": {
   "display_name": "Python 3",
   "language": "python",
   "name": "python3"
  },
  "language_info": {
   "codemirror_mode": {
    "name": "ipython",
    "version": 2
   },
   "file_extension": ".py",
   "mimetype": "text/x-python",
   "name": "python",
   "nbconvert_exporter": "python",
   "pygments_lexer": "ipython2",
   "version": "2.7.6"
  }
 },
 "nbformat": 4,
 "nbformat_minor": 5
}
