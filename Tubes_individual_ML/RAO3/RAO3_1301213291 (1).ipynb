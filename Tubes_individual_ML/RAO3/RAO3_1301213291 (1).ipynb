{
 "cells": [
  {
   "cell_type": "markdown",
   "metadata": {},
   "source": [
    "# RAO3 Algorithm"
   ]
  },
  {
   "cell_type": "markdown",
   "metadata": {},
   "source": [
    "Name    : Anaz Akbar Azhar <br>\n",
    "SID     : 1301213291"
   ]
  },
  {
   "cell_type": "markdown",
   "metadata": {},
   "source": [
    "# kode\n",
    "\n",
    "import library yang dibutuhkan"
   ]
  },
  {
   "cell_type": "code",
   "execution_count": 16,
   "metadata": {
    "ExecuteTime": {
     "end_time": "2024-05-29T12:51:12.959023Z",
     "start_time": "2024-05-29T12:51:12.954986Z"
    }
   },
   "outputs": [],
   "source": [
    "import numpy as np\n",
    "import matplotlib.pyplot as plt\n",
    "from matplotlib.animation import FuncAnimation, PillowWriter"
   ]
  },
  {
   "cell_type": "markdown",
   "metadata": {},
   "source": [
    "# Fungsi F9"
   ]
  },
  {
   "cell_type": "code",
   "execution_count": 25,
   "metadata": {
    "ExecuteTime": {
     "end_time": "2024-05-29T13:01:51.159563Z",
     "start_time": "2024-05-29T13:01:51.152885Z"
    }
   },
   "outputs": [],
   "source": [
    "def F14(x):\n",
    "    aS = np.array([\n",
    "        [-32, -16, 0, 16, 32, -32, -16, 0, 16, 32, -32, -16, 0, 16, 32, -32, -16, 0, 16, 32, -32, -16, 0, 16, 32],\n",
    "        [-32, -32, -32, -32, -32, -16, -16, -16, -16, -16, 0, 0, 0, 0, 0, 16, 16, 16, 16, 16, 32, 32, 32, 32, 32]\n",
    "    ])\n",
    "    bS = np.sum((x[:, np.newaxis] - aS.T) ** 6, axis=2)\n",
    "    return (1 / 500 + np.sum(1 / (np.arange(1, 26) + bS), axis=1)) ** -1"
   ]
  },
  {
   "cell_type": "markdown",
   "metadata": {},
   "source": [
    "## Parameter"
   ]
  },
  {
   "cell_type": "markdown",
   "metadata": {},
   "source": [
    "Parameter di dalam firefly algorithm ada berapa jenis seperti yang dijelaskan di bawah ini"
   ]
  },
  {
   "cell_type": "code",
   "execution_count": 26,
   "metadata": {
    "ExecuteTime": {
     "end_time": "2024-05-29T13:01:54.048566Z",
     "start_time": "2024-05-29T13:01:54.043058Z"
    }
   },
   "outputs": [],
   "source": [
    "# Inisialisasi parameter-parameter algoritma\n",
    "n_candidates = 40  # Ukuran populasi\n",
    "max_iterations = 50  # Jumlah iterasi maksimum\n",
    "x_range = (-50, 100)  # Rentang untuk populasi awal"
   ]
  },
  {
   "cell_type": "code",
   "execution_count": 19,
   "metadata": {
    "ExecuteTime": {
     "end_time": "2024-05-29T12:51:13.027670Z",
     "start_time": "2024-05-29T12:51:13.022122Z"
    }
   },
   "outputs": [],
   "source": [
    "# Inisialisasi populasi awal secara acak\n",
    "np.random.seed(42)\n",
    "population = np.random.uniform(x_range[0], x_range[1], (n_candidates, 2))"
   ]
  },
  {
   "cell_type": "code",
   "execution_count": 20,
   "metadata": {
    "ExecuteTime": {
     "end_time": "2024-05-29T12:51:13.035358Z",
     "start_time": "2024-05-29T12:51:13.029801Z"
    }
   },
   "outputs": [],
   "source": [
    "# Fungsi untuk menghitung fitness dari populasi\n",
    "def calculate_fitness(population):\n",
    "    return np.array([F14(individual.reshape(1, -1)) for individual in population])"
   ]
  },
  {
   "cell_type": "code",
   "execution_count": 21,
   "metadata": {
    "ExecuteTime": {
     "end_time": "2024-05-29T12:51:13.046585Z",
     "start_time": "2024-05-29T12:51:13.037369Z"
    }
   },
   "outputs": [
    {
     "name": "stdout",
     "output_type": "stream",
     "text": [
      "[[499.99996588]\n",
      " [499.99887409]\n",
      " [494.58529257]\n",
      " [499.99991705]\n",
      " [499.99787777]\n",
      " [499.99997967]\n",
      " [499.99979783]\n",
      " [497.67388478]\n",
      " [471.03851749]\n",
      " [495.72112746]\n",
      " [499.66914878]\n",
      " [495.96644696]\n",
      " [499.99948964]\n",
      " [485.98872322]\n",
      " [499.86583899]\n",
      " [499.40476692]\n",
      " [499.99997185]\n",
      " [499.99998607]\n",
      " [469.80014822]\n",
      " [499.99073857]\n",
      " [498.01628277]\n",
      " [499.99995678]\n",
      " [499.97873719]\n",
      " [456.14249086]\n",
      " [495.60342999]\n",
      " [499.99998506]\n",
      " [499.99998808]\n",
      " [499.99996035]\n",
      " [488.06359127]\n",
      " [499.84266901]\n",
      " [498.00981565]\n",
      " [499.9997556 ]\n",
      " [498.04515796]\n",
      " [499.99969585]\n",
      " [499.99998164]\n",
      " [499.99933925]\n",
      " [499.9998463 ]\n",
      " [499.9994337 ]\n",
      " [499.99953982]\n",
      " [425.81619447]]\n"
     ]
    }
   ],
   "source": [
    "# Inisialisasi fitness populasi awal\n",
    "fitness = calculate_fitness(population)\n",
    "print(fitness)"
   ]
  },
  {
   "cell_type": "markdown",
   "metadata": {},
   "source": [
    "## RAO3 Algorithm"
   ]
  },
  {
   "cell_type": "code",
   "execution_count": 22,
   "metadata": {
    "ExecuteTime": {
     "end_time": "2024-05-29T12:51:13.073711Z",
     "start_time": "2024-05-29T12:51:13.066647Z"
    }
   },
   "outputs": [],
   "source": [
    "# RAO3 setup \n",
    "def rao_v3(population, fitness):\n",
    "    history = [] # List untuk menyimpan populasi pada setiap iterasi\n",
    "    for _ in range(max_iterations):\n",
    "        new_population = np.copy(population) # Salin populasi saat ini untuk penggunaan dalam iterasi ini\n",
    "        for i in range(n_candidates):\n",
    "            r1 = np.random.random()\n",
    "            r2 = np.random.random()\n",
    "            best = population[np.argmin(fitness)]\n",
    "            worst = population[np.argmax(fitness)]\n",
    "            random_individual = population[np.random.randint(0, n_candidates)]\n",
    "            \n",
    "            # Update aturan dimodifikasi sesuai dengan formula\n",
    "            new_population[i] = population[i] + \\\n",
    "                                r1 * (best - np.abs(worst)) + \\\n",
    "                                r2 * (np.logical_or(population[i], random_individual) - population[i])\n",
    "            \n",
    "            # Memastikan batas tetap terjaga\n",
    "            new_population[i] = np.clip(new_population[i], x_range[0], x_range[1])\n",
    "        \n",
    "        # Evaluasi populasi baru\n",
    "        new_fitness = calculate_fitness(new_population)\n",
    "        \n",
    "        # Ganti populasi lama dengan yang baru jika lebih baik\n",
    "        for j in range(n_candidates):\n",
    "            if new_fitness[j] < fitness[j]:\n",
    "                population[j] = new_population[j]\n",
    "                fitness[j] = new_fitness[j]\n",
    "        \n",
    "        history.append(population.copy())\n",
    "    \n",
    "    return population, history"
   ]
  },
  {
   "cell_type": "code",
   "execution_count": 23,
   "metadata": {
    "ExecuteTime": {
     "end_time": "2024-05-29T12:51:13.239238Z",
     "start_time": "2024-05-29T12:51:13.086747Z"
    }
   },
   "outputs": [],
   "source": [
    "final_population, history = rao_v3(population, fitness)"
   ]
  },
  {
   "cell_type": "markdown",
   "metadata": {},
   "source": [
    "## Buat GIF dari data yang telah ada"
   ]
  },
  {
   "cell_type": "code",
   "execution_count": 24,
   "metadata": {
    "ExecuteTime": {
     "end_time": "2024-05-29T12:51:20.192663Z",
     "start_time": "2024-05-29T12:51:13.242244Z"
    }
   },
   "outputs": [
    {
     "data": {
      "text/plain": "<Figure size 640x480 with 1 Axes>",
      "image/png": "[encoded data removed]"
     },
     "metadata": {},
     "output_type": "display_data"
    }
   ],
   "source": [
    "# Persiapkan data plot kontur\n",
    "bounds = (-100, 100)\n",
    "X1 = np.linspace(bounds[0], bounds[1], 400)\n",
    "X2 = np.linspace(bounds[0], bounds[1], 400)\n",
    "X1, X2 = np.meshgrid(X1, X2)\n",
    "Z = F14(np.column_stack([X1.ravel(), X2.ravel()])).reshape(X1.shape)\n",
    "\n",
    "# Atur gambar dan sumbu untuk animasi\n",
    "fig, ax = plt.subplots()\n",
    "ax.set_xlim(bounds[0], bounds[1])\n",
    "ax.set_ylim(bounds[0], bounds[1])\n",
    "contour = ax.contour(X1, X2, Z, levels=50)\n",
    "scatter = ax.scatter([], [], c='red')  # Kandidat solusi\n",
    "\n",
    "# Fungsi pembaruan untuk animasi\n",
    "def update(frame):\n",
    "    positions = history[frame]\n",
    "    scatter.set_offsets(positions)\n",
    "    ax.set_title(f'Rao Algorithm V3 Iteration {frame + 1}')\n",
    "    return scatter,\n",
    "\n",
    "ani = FuncAnimation(fig, update, frames=len(history), blit=True, repeat=False)\n",
    "\n",
    "writer = PillowWriter(fps=5)  # Adjust fps for speed preference\n",
    "ani.save(\"rao_algorithm_v3_1301213291.gif\", writer=writer)\n",
    "plt.show()"
   ]
  }
 ],
 "metadata": {
  "kernelspec": {
   "display_name": "Python 3 (ipykernel)",
   "language": "python",
   "name": "python3"
  },
  "language_info": {
   "codemirror_mode": {
    "name": "ipython",
    "version": 3
   },
   "file_extension": ".py",
   "mimetype": "text/x-python",
   "name": "python",
   "nbconvert_exporter": "python",
   "pygments_lexer": "ipython3",
   "version": "3.11.3"
  }
 },
 "nbformat": 4,
 "nbformat_minor": 2
}
